{
  "cells": [
    {
      "cell_type": "markdown",
      "source": [
        "# Length of Hospitalization (ML 2023 Project)"
      ],
      "metadata": {
        "id": "DcL_DuGH5ZIa"
      }
    },
    {
      "cell_type": "markdown",
      "source": [
        "## Necessary Libraries"
      ],
      "metadata": {
        "id": "oz99ZVrZt5bx"
      }
    },
    {
      "cell_type": "code",
      "source": [
        "from google.colab import drive\n",
        "drive.mount('/content/drive')"
      ],
      "metadata": {
        "colab": {
          "base_uri": "https://localhost:8080/"
        },
        "id": "EIpQdRBhuBCs",
        "outputId": "ad1908c2-1b33-426a-c3b0-8788342218da"
      },
      "execution_count": null,
      "outputs": [
        {
          "output_type": "stream",
          "name": "stdout",
          "text": [
            "Drive already mounted at /content/drive; to attempt to forcibly remount, call drive.mount(\"/content/drive\", force_remount=True).\n"
          ]
        }
      ]
    },
    {
      "cell_type": "code",
      "source": [
        "!pip install transformers"
      ],
      "metadata": {
        "colab": {
          "base_uri": "https://localhost:8080/"
        },
        "id": "pTn14NMeznUq",
        "outputId": "d7046596-8196-492d-a59d-fd882f840c17"
      },
      "execution_count": null,
      "outputs": [
        {
          "output_type": "stream",
          "name": "stdout",
          "text": [
            "Looking in indexes: https://pypi.org/simple, https://us-python.pkg.dev/colab-wheels/public/simple/\n",
            "Requirement already satisfied: transformers in /usr/local/lib/python3.10/dist-packages (4.29.2)\n",
            "Requirement already satisfied: filelock in /usr/local/lib/python3.10/dist-packages (from transformers) (3.12.0)\n",
            "Requirement already satisfied: huggingface-hub<1.0,>=0.14.1 in /usr/local/lib/python3.10/dist-packages (from transformers) (0.14.1)\n",
            "Requirement already satisfied: numpy>=1.17 in /usr/local/lib/python3.10/dist-packages (from transformers) (1.22.4)\n",
            "Requirement already satisfied: packaging>=20.0 in /usr/local/lib/python3.10/dist-packages (from transformers) (23.1)\n",
            "Requirement already satisfied: pyyaml>=5.1 in /usr/local/lib/python3.10/dist-packages (from transformers) (6.0)\n",
            "Requirement already satisfied: regex!=2019.12.17 in /usr/local/lib/python3.10/dist-packages (from transformers) (2022.10.31)\n",
            "Requirement already satisfied: requests in /usr/local/lib/python3.10/dist-packages (from transformers) (2.27.1)\n",
            "Requirement already satisfied: tokenizers!=0.11.3,<0.14,>=0.11.1 in /usr/local/lib/python3.10/dist-packages (from transformers) (0.13.3)\n",
            "Requirement already satisfied: tqdm>=4.27 in /usr/local/lib/python3.10/dist-packages (from transformers) (4.65.0)\n",
            "Requirement already satisfied: fsspec in /usr/local/lib/python3.10/dist-packages (from huggingface-hub<1.0,>=0.14.1->transformers) (2023.4.0)\n",
            "Requirement already satisfied: typing-extensions>=3.7.4.3 in /usr/local/lib/python3.10/dist-packages (from huggingface-hub<1.0,>=0.14.1->transformers) (4.5.0)\n",
            "Requirement already satisfied: urllib3<1.27,>=1.21.1 in /usr/local/lib/python3.10/dist-packages (from requests->transformers) (1.26.15)\n",
            "Requirement already satisfied: certifi>=2017.4.17 in /usr/local/lib/python3.10/dist-packages (from requests->transformers) (2022.12.7)\n",
            "Requirement already satisfied: charset-normalizer~=2.0.0 in /usr/local/lib/python3.10/dist-packages (from requests->transformers) (2.0.12)\n",
            "Requirement already satisfied: idna<4,>=2.5 in /usr/local/lib/python3.10/dist-packages (from requests->transformers) (3.4)\n"
          ]
        }
      ]
    },
    {
      "cell_type": "code",
      "execution_count": null,
      "metadata": {
        "id": "xdr5Mp-bt2DV",
        "colab": {
          "base_uri": "https://localhost:8080/"
        },
        "outputId": "a79b9b0a-9706-4977-f79d-25e80dbe2542"
      },
      "outputs": [
        {
          "output_type": "stream",
          "name": "stderr",
          "text": [
            "[nltk_data] Downloading package punkt to /root/nltk_data...\n",
            "[nltk_data]   Package punkt is already up-to-date!\n",
            "[nltk_data] Downloading package stopwords to /root/nltk_data...\n",
            "[nltk_data]   Package stopwords is already up-to-date!\n"
          ]
        }
      ],
      "source": [
        "import pandas as pd\n",
        "from sklearn.model_selection import train_test_split\n",
        "from sklearn.dummy import DummyClassifier\n",
        "from sklearn.model_selection import ParameterGrid\n",
        "from sklearn.svm import SVC\n",
        "from sklearn.ensemble import AdaBoostClassifier, RandomForestClassifier, GradientBoostingClassifier, VotingClassifier\n",
        "from sklearn.linear_model import LogisticRegression\n",
        "from sklearn.neighbors import KNeighborsClassifier\n",
        "from transformers import AutoTokenizer, AutoModel\n",
        "from multiprocessing import Pool\n",
        "\n",
        "import lightgbm as lgb\n",
        "\n",
        "from torch.utils.data import DataLoader\n",
        "import torch\n",
        "from torch.optim import Adam\n",
        "from tqdm import tqdm\n",
        "\n",
        "import random\n",
        "import numpy as np\n",
        "\n",
        "import re\n",
        "import nltk\n",
        "nltk.download('punkt')\n",
        "nltk.download('stopwords')\n",
        "import string\n",
        "import numpy as np\n",
        "from torch.utils.data import Dataset\n",
        "from torch import nn\n",
        "import spacy\n",
        "nlp = spacy.load('en_core_web_sm')\n",
        "\n",
        "import seaborn as sns\n",
        "sns.set_theme(style=\"whitegrid\")\n",
        "\n",
        "import matplotlib.pyplot as plt\n",
        "from sklearn.preprocessing import StandardScaler"
      ]
    },
    {
      "cell_type": "markdown",
      "source": [
        "## Dataset"
      ],
      "metadata": {
        "id": "OM0FZbyE5L5d"
      }
    },
    {
      "cell_type": "code",
      "source": [
        "hos_NUMTEXT = pd.read_csv('/content/drive/MyDrive/UIC Y3/Machine Learning/Project/RESOURCES/DATA/HOSP_DATA.csv')\n",
        "hos_TEXT = pd.read_csv('/content/drive/MyDrive/UIC Y3/Machine Learning/Project/RESOURCES/DATA/HOSP_TEXT.csv')\n",
        "hos_NUMTEXT = hos_NUMTEXT.rename(columns={'symptoms': 'text'})\n",
        "hos_TEXT = hos_TEXT.rename(columns={'text_new': 'text'})"
      ],
      "metadata": {
        "id": "pVVXssGbuSQF"
      },
      "execution_count": null,
      "outputs": []
    },
    {
      "cell_type": "code",
      "source": [
        "data = hos_TEXT.sample(50000)\n",
        "# data = hos_TEXT\n",
        "print(data['target'].value_counts())\n",
        "data.head()"
      ],
      "metadata": {
        "colab": {
          "base_uri": "https://localhost:8080/",
          "height": 258
        },
        "id": "EQhrR3bF1UGI",
        "outputId": "1a4884b3-1130-467a-8c23-c815fd52421e"
      },
      "execution_count": null,
      "outputs": [
        {
          "output_type": "stream",
          "name": "stdout",
          "text": [
            "0    39399\n",
            "1    10601\n",
            "Name: target, dtype: int64\n"
          ]
        },
        {
          "output_type": "execute_result",
          "data": {
            "text/plain": [
              "        subject_id   hadm_id  \\\n",
              "116659    16745416  28122033   \n",
              "45163     16392878  22261889   \n",
              "335350    17352349  29383969   \n",
              "88801     10109613  21509857   \n",
              "141949    15589702  22905737   \n",
              "\n",
              "                                                     text  target  \n",
              "116659  ELECTIVE, adult, Normal range, Encounter for a...       0  \n",
              "45163   EU OBSERVATION, adult, Overweight (Pre-obese),...       0  \n",
              "335350  URGENT, adult, Overweight (Pre-obese), Outcome...       0  \n",
              "88801   URGENT, Older adults, Overweight (Pre-obese), ...       1  \n",
              "141949  OBSERVATION ADMIT, Older adults, Normal range,...       1  "
            ],
            "text/html": [
              "\n",
              "  <div id=\"df-42d151b3-195c-497f-885d-c9138fa3d406\">\n",
              "    <div class=\"colab-df-container\">\n",
              "      <div>\n",
              "<style scoped>\n",
              "    .dataframe tbody tr th:only-of-type {\n",
              "        vertical-align: middle;\n",
              "    }\n",
              "\n",
              "    .dataframe tbody tr th {\n",
              "        vertical-align: top;\n",
              "    }\n",
              "\n",
              "    .dataframe thead th {\n",
              "        text-align: right;\n",
              "    }\n",
              "</style>\n",
              "<table border=\"1\" class=\"dataframe\">\n",
              "  <thead>\n",
              "    <tr style=\"text-align: right;\">\n",
              "      <th></th>\n",
              "      <th>subject_id</th>\n",
              "      <th>hadm_id</th>\n",
              "      <th>text</th>\n",
              "      <th>target</th>\n",
              "    </tr>\n",
              "  </thead>\n",
              "  <tbody>\n",
              "    <tr>\n",
              "      <th>116659</th>\n",
              "      <td>16745416</td>\n",
              "      <td>28122033</td>\n",
              "      <td>ELECTIVE, adult, Normal range, Encounter for a...</td>\n",
              "      <td>0</td>\n",
              "    </tr>\n",
              "    <tr>\n",
              "      <th>45163</th>\n",
              "      <td>16392878</td>\n",
              "      <td>22261889</td>\n",
              "      <td>EU OBSERVATION, adult, Overweight (Pre-obese),...</td>\n",
              "      <td>0</td>\n",
              "    </tr>\n",
              "    <tr>\n",
              "      <th>335350</th>\n",
              "      <td>17352349</td>\n",
              "      <td>29383969</td>\n",
              "      <td>URGENT, adult, Overweight (Pre-obese), Outcome...</td>\n",
              "      <td>0</td>\n",
              "    </tr>\n",
              "    <tr>\n",
              "      <th>88801</th>\n",
              "      <td>10109613</td>\n",
              "      <td>21509857</td>\n",
              "      <td>URGENT, Older adults, Overweight (Pre-obese), ...</td>\n",
              "      <td>1</td>\n",
              "    </tr>\n",
              "    <tr>\n",
              "      <th>141949</th>\n",
              "      <td>15589702</td>\n",
              "      <td>22905737</td>\n",
              "      <td>OBSERVATION ADMIT, Older adults, Normal range,...</td>\n",
              "      <td>1</td>\n",
              "    </tr>\n",
              "  </tbody>\n",
              "</table>\n",
              "</div>\n",
              "      <button class=\"colab-df-convert\" onclick=\"convertToInteractive('df-42d151b3-195c-497f-885d-c9138fa3d406')\"\n",
              "              title=\"Convert this dataframe to an interactive table.\"\n",
              "              style=\"display:none;\">\n",
              "        \n",
              "  <svg xmlns=\"http://www.w3.org/2000/svg\" height=\"24px\"viewBox=\"0 0 24 24\"\n",
              "       width=\"24px\">\n",
              "    <path d=\"M0 0h24v24H0V0z\" fill=\"none\"/>\n",
              "    <path d=\"M18.56 5.44l.94 2.06.94-2.06 2.06-.94-2.06-.94-.94-2.06-.94 2.06-2.06.94zm-11 1L8.5 8.5l.94-2.06 2.06-.94-2.06-.94L8.5 2.5l-.94 2.06-2.06.94zm10 10l.94 2.06.94-2.06 2.06-.94-2.06-.94-.94-2.06-.94 2.06-2.06.94z\"/><path d=\"M17.41 7.96l-1.37-1.37c-.4-.4-.92-.59-1.43-.59-.52 0-1.04.2-1.43.59L10.3 9.45l-7.72 7.72c-.78.78-.78 2.05 0 2.83L4 21.41c.39.39.9.59 1.41.59.51 0 1.02-.2 1.41-.59l7.78-7.78 2.81-2.81c.8-.78.8-2.07 0-2.86zM5.41 20L4 18.59l7.72-7.72 1.47 1.35L5.41 20z\"/>\n",
              "  </svg>\n",
              "      </button>\n",
              "      \n",
              "  <style>\n",
              "    .colab-df-container {\n",
              "      display:flex;\n",
              "      flex-wrap:wrap;\n",
              "      gap: 12px;\n",
              "    }\n",
              "\n",
              "    .colab-df-convert {\n",
              "      background-color: #E8F0FE;\n",
              "      border: none;\n",
              "      border-radius: 50%;\n",
              "      cursor: pointer;\n",
              "      display: none;\n",
              "      fill: #1967D2;\n",
              "      height: 32px;\n",
              "      padding: 0 0 0 0;\n",
              "      width: 32px;\n",
              "    }\n",
              "\n",
              "    .colab-df-convert:hover {\n",
              "      background-color: #E2EBFA;\n",
              "      box-shadow: 0px 1px 2px rgba(60, 64, 67, 0.3), 0px 1px 3px 1px rgba(60, 64, 67, 0.15);\n",
              "      fill: #174EA6;\n",
              "    }\n",
              "\n",
              "    [theme=dark] .colab-df-convert {\n",
              "      background-color: #3B4455;\n",
              "      fill: #D2E3FC;\n",
              "    }\n",
              "\n",
              "    [theme=dark] .colab-df-convert:hover {\n",
              "      background-color: #434B5C;\n",
              "      box-shadow: 0px 1px 3px 1px rgba(0, 0, 0, 0.15);\n",
              "      filter: drop-shadow(0px 1px 2px rgba(0, 0, 0, 0.3));\n",
              "      fill: #FFFFFF;\n",
              "    }\n",
              "  </style>\n",
              "\n",
              "      <script>\n",
              "        const buttonEl =\n",
              "          document.querySelector('#df-42d151b3-195c-497f-885d-c9138fa3d406 button.colab-df-convert');\n",
              "        buttonEl.style.display =\n",
              "          google.colab.kernel.accessAllowed ? 'block' : 'none';\n",
              "\n",
              "        async function convertToInteractive(key) {\n",
              "          const element = document.querySelector('#df-42d151b3-195c-497f-885d-c9138fa3d406');\n",
              "          const dataTable =\n",
              "            await google.colab.kernel.invokeFunction('convertToInteractive',\n",
              "                                                     [key], {});\n",
              "          if (!dataTable) return;\n",
              "\n",
              "          const docLinkHtml = 'Like what you see? Visit the ' +\n",
              "            '<a target=\"_blank\" href=https://colab.research.google.com/notebooks/data_table.ipynb>data table notebook</a>'\n",
              "            + ' to learn more about interactive tables.';\n",
              "          element.innerHTML = '';\n",
              "          dataTable['output_type'] = 'display_data';\n",
              "          await google.colab.output.renderOutput(dataTable, element);\n",
              "          const docLink = document.createElement('div');\n",
              "          docLink.innerHTML = docLinkHtml;\n",
              "          element.appendChild(docLink);\n",
              "        }\n",
              "      </script>\n",
              "    </div>\n",
              "  </div>\n",
              "  "
            ]
          },
          "metadata": {},
          "execution_count": 5
        }
      ]
    },
    {
      "cell_type": "code",
      "source": [
        "data_num = hos_NUMTEXT.sample(50000)\n",
        "print(data_num['target'].value_counts())\n",
        "data_num.head()"
      ],
      "metadata": {
        "colab": {
          "base_uri": "https://localhost:8080/",
          "height": 258
        },
        "id": "249HNhY1J2vl",
        "outputId": "ecaa9805-fe55-4d67-b2eb-b0e42c36f72b"
      },
      "execution_count": null,
      "outputs": [
        {
          "output_type": "stream",
          "name": "stdout",
          "text": [
            "0    39562\n",
            "1    10438\n",
            "Name: target, dtype: int64\n"
          ]
        },
        {
          "output_type": "execute_result",
          "data": {
            "text/plain": [
              "        subject_id   hadm_id               admission_type  age       BMI  \\\n",
              "45719     12951637  28837538           DIRECT OBSERVATION   50  29.80000   \n",
              "191977    11030576  21648828                     EW EMER.   87  23.70000   \n",
              "83994     15318463  22330393                     EW EMER.   52  21.30000   \n",
              "179409    16874326  21440674                       URGENT   29  24.45000   \n",
              "200473    10716693  21808276  SURGICAL SAME DAY ADMISSION   64  34.16875   \n",
              "\n",
              "                                                     text  target  \n",
              "45719   Other and unspecified hyperlipidemia, Accident...       0  \n",
              "191977  Personal history of tobacco use, Hyposmolality...       1  \n",
              "83994   Human immunodeficiency virus [HIV] disease, Ca...       0  \n",
              "179409  First-degree perineal laceration, delivered, w...       0  \n",
              "200473  Personal history of tobacco use, Hyposmolality...       0  "
            ],
            "text/html": [
              "\n",
              "  <div id=\"df-8665df5d-de89-40a9-823b-4aad54462f32\">\n",
              "    <div class=\"colab-df-container\">\n",
              "      <div>\n",
              "<style scoped>\n",
              "    .dataframe tbody tr th:only-of-type {\n",
              "        vertical-align: middle;\n",
              "    }\n",
              "\n",
              "    .dataframe tbody tr th {\n",
              "        vertical-align: top;\n",
              "    }\n",
              "\n",
              "    .dataframe thead th {\n",
              "        text-align: right;\n",
              "    }\n",
              "</style>\n",
              "<table border=\"1\" class=\"dataframe\">\n",
              "  <thead>\n",
              "    <tr style=\"text-align: right;\">\n",
              "      <th></th>\n",
              "      <th>subject_id</th>\n",
              "      <th>hadm_id</th>\n",
              "      <th>admission_type</th>\n",
              "      <th>age</th>\n",
              "      <th>BMI</th>\n",
              "      <th>text</th>\n",
              "      <th>target</th>\n",
              "    </tr>\n",
              "  </thead>\n",
              "  <tbody>\n",
              "    <tr>\n",
              "      <th>45719</th>\n",
              "      <td>12951637</td>\n",
              "      <td>28837538</td>\n",
              "      <td>DIRECT OBSERVATION</td>\n",
              "      <td>50</td>\n",
              "      <td>29.80000</td>\n",
              "      <td>Other and unspecified hyperlipidemia, Accident...</td>\n",
              "      <td>0</td>\n",
              "    </tr>\n",
              "    <tr>\n",
              "      <th>191977</th>\n",
              "      <td>11030576</td>\n",
              "      <td>21648828</td>\n",
              "      <td>EW EMER.</td>\n",
              "      <td>87</td>\n",
              "      <td>23.70000</td>\n",
              "      <td>Personal history of tobacco use, Hyposmolality...</td>\n",
              "      <td>1</td>\n",
              "    </tr>\n",
              "    <tr>\n",
              "      <th>83994</th>\n",
              "      <td>15318463</td>\n",
              "      <td>22330393</td>\n",
              "      <td>EW EMER.</td>\n",
              "      <td>52</td>\n",
              "      <td>21.30000</td>\n",
              "      <td>Human immunodeficiency virus [HIV] disease, Ca...</td>\n",
              "      <td>0</td>\n",
              "    </tr>\n",
              "    <tr>\n",
              "      <th>179409</th>\n",
              "      <td>16874326</td>\n",
              "      <td>21440674</td>\n",
              "      <td>URGENT</td>\n",
              "      <td>29</td>\n",
              "      <td>24.45000</td>\n",
              "      <td>First-degree perineal laceration, delivered, w...</td>\n",
              "      <td>0</td>\n",
              "    </tr>\n",
              "    <tr>\n",
              "      <th>200473</th>\n",
              "      <td>10716693</td>\n",
              "      <td>21808276</td>\n",
              "      <td>SURGICAL SAME DAY ADMISSION</td>\n",
              "      <td>64</td>\n",
              "      <td>34.16875</td>\n",
              "      <td>Personal history of tobacco use, Hyposmolality...</td>\n",
              "      <td>0</td>\n",
              "    </tr>\n",
              "  </tbody>\n",
              "</table>\n",
              "</div>\n",
              "      <button class=\"colab-df-convert\" onclick=\"convertToInteractive('df-8665df5d-de89-40a9-823b-4aad54462f32')\"\n",
              "              title=\"Convert this dataframe to an interactive table.\"\n",
              "              style=\"display:none;\">\n",
              "        \n",
              "  <svg xmlns=\"http://www.w3.org/2000/svg\" height=\"24px\"viewBox=\"0 0 24 24\"\n",
              "       width=\"24px\">\n",
              "    <path d=\"M0 0h24v24H0V0z\" fill=\"none\"/>\n",
              "    <path d=\"M18.56 5.44l.94 2.06.94-2.06 2.06-.94-2.06-.94-.94-2.06-.94 2.06-2.06.94zm-11 1L8.5 8.5l.94-2.06 2.06-.94-2.06-.94L8.5 2.5l-.94 2.06-2.06.94zm10 10l.94 2.06.94-2.06 2.06-.94-2.06-.94-.94-2.06-.94 2.06-2.06.94z\"/><path d=\"M17.41 7.96l-1.37-1.37c-.4-.4-.92-.59-1.43-.59-.52 0-1.04.2-1.43.59L10.3 9.45l-7.72 7.72c-.78.78-.78 2.05 0 2.83L4 21.41c.39.39.9.59 1.41.59.51 0 1.02-.2 1.41-.59l7.78-7.78 2.81-2.81c.8-.78.8-2.07 0-2.86zM5.41 20L4 18.59l7.72-7.72 1.47 1.35L5.41 20z\"/>\n",
              "  </svg>\n",
              "      </button>\n",
              "      \n",
              "  <style>\n",
              "    .colab-df-container {\n",
              "      display:flex;\n",
              "      flex-wrap:wrap;\n",
              "      gap: 12px;\n",
              "    }\n",
              "\n",
              "    .colab-df-convert {\n",
              "      background-color: #E8F0FE;\n",
              "      border: none;\n",
              "      border-radius: 50%;\n",
              "      cursor: pointer;\n",
              "      display: none;\n",
              "      fill: #1967D2;\n",
              "      height: 32px;\n",
              "      padding: 0 0 0 0;\n",
              "      width: 32px;\n",
              "    }\n",
              "\n",
              "    .colab-df-convert:hover {\n",
              "      background-color: #E2EBFA;\n",
              "      box-shadow: 0px 1px 2px rgba(60, 64, 67, 0.3), 0px 1px 3px 1px rgba(60, 64, 67, 0.15);\n",
              "      fill: #174EA6;\n",
              "    }\n",
              "\n",
              "    [theme=dark] .colab-df-convert {\n",
              "      background-color: #3B4455;\n",
              "      fill: #D2E3FC;\n",
              "    }\n",
              "\n",
              "    [theme=dark] .colab-df-convert:hover {\n",
              "      background-color: #434B5C;\n",
              "      box-shadow: 0px 1px 3px 1px rgba(0, 0, 0, 0.15);\n",
              "      filter: drop-shadow(0px 1px 2px rgba(0, 0, 0, 0.3));\n",
              "      fill: #FFFFFF;\n",
              "    }\n",
              "  </style>\n",
              "\n",
              "      <script>\n",
              "        const buttonEl =\n",
              "          document.querySelector('#df-8665df5d-de89-40a9-823b-4aad54462f32 button.colab-df-convert');\n",
              "        buttonEl.style.display =\n",
              "          google.colab.kernel.accessAllowed ? 'block' : 'none';\n",
              "\n",
              "        async function convertToInteractive(key) {\n",
              "          const element = document.querySelector('#df-8665df5d-de89-40a9-823b-4aad54462f32');\n",
              "          const dataTable =\n",
              "            await google.colab.kernel.invokeFunction('convertToInteractive',\n",
              "                                                     [key], {});\n",
              "          if (!dataTable) return;\n",
              "\n",
              "          const docLinkHtml = 'Like what you see? Visit the ' +\n",
              "            '<a target=\"_blank\" href=https://colab.research.google.com/notebooks/data_table.ipynb>data table notebook</a>'\n",
              "            + ' to learn more about interactive tables.';\n",
              "          element.innerHTML = '';\n",
              "          dataTable['output_type'] = 'display_data';\n",
              "          await google.colab.output.renderOutput(dataTable, element);\n",
              "          const docLink = document.createElement('div');\n",
              "          docLink.innerHTML = docLinkHtml;\n",
              "          element.appendChild(docLink);\n",
              "        }\n",
              "      </script>\n",
              "    </div>\n",
              "  </div>\n",
              "  "
            ]
          },
          "metadata": {},
          "execution_count": 6
        }
      ]
    },
    {
      "cell_type": "markdown",
      "source": [
        "## TEXT Preperations"
      ],
      "metadata": {
        "id": "zInyyYUB6k7h"
      }
    },
    {
      "cell_type": "code",
      "source": [
        "import transformers\n",
        "from transformers import AutoTokenizer, AutoModel\n",
        "tokenizer = AutoTokenizer.from_pretrained(\"emilyalsentzer/Bio_ClinicalBERT\")"
      ],
      "metadata": {
        "id": "nAPhcWkMzkik"
      },
      "execution_count": null,
      "outputs": []
    },
    {
      "cell_type": "code",
      "source": [
        "import string\n",
        "from collections import Counter\n",
        "# two-step preprocessing\n",
        "def remove_punctuation(text):\n",
        "    \"\"\"\n",
        "    This function takes a string as input and removes all punctuation marks from it.\n",
        "    \"\"\"\n",
        "    return text.translate(str.maketrans('', '', string.punctuation))\n",
        "\n",
        "def lowercase_text(text):\n",
        "    \"\"\"\n",
        "    This function takes a string as input and converts it to lowercase.\n",
        "    \"\"\"\n",
        "    return text.lower()\n",
        "\n",
        "def counter_word(text):\n",
        "  count = Counter()\n",
        "  for i in text.values:\n",
        "    for word in i.split():\n",
        "      count[word]+=1\n",
        "  return count\n",
        "\n",
        "def text_tokenization(df, padding_length):\n",
        "  df['text'] = df['text'].apply(remove_punctuation).apply(lowercase_text)\n",
        "  text = df.text\n",
        "  counter = counter_word(text)\n",
        "  vocab_num = len(counter)\n",
        "\n",
        "  # tokenization and convert the texts to vectors\n",
        "  input_ids=[]\n",
        "  attention_masks=[]\n",
        "\n",
        "  for msg in data[\"text\"]:\n",
        "      bert_inp=tokenizer.encode_plus(msg,\n",
        "                                    add_special_tokens = False,\n",
        "                                    max_length = padding_length,\n",
        "                                    padding='max_length',\n",
        "                                    return_attention_mask = True)#,return_tensors='pt'\n",
        "      input_ids.append(bert_inp['input_ids'])\n",
        "      attention_masks.append(bert_inp['attention_mask'])\n",
        "\n",
        "  input_ids=np.asarray(input_ids)\n",
        "  attention_masks=np.array(attention_masks)\n",
        "\n",
        "  return vocab_num, input_ids, attention_masks"
      ],
      "metadata": {
        "id": "kjEPKuqC0HJ0"
      },
      "execution_count": null,
      "outputs": []
    },
    {
      "cell_type": "code",
      "source": [
        "# for text-only preprocessing\n",
        "t_vocab, t_input_ids, t_att = text_tokenization(data, 650)\n",
        "# check input shape\n",
        "t_input_ids.shape"
      ],
      "metadata": {
        "colab": {
          "base_uri": "https://localhost:8080/"
        },
        "id": "Nfl-s-VOuY8d",
        "outputId": "b6aa2c42-6ea7-4918-c46c-5dbbde42625d"
      },
      "execution_count": null,
      "outputs": [
        {
          "output_type": "execute_result",
          "data": {
            "text/plain": [
              "(50000, 650)"
            ]
          },
          "metadata": {},
          "execution_count": 9
        }
      ]
    },
    {
      "cell_type": "code",
      "source": [
        "# for text & nums preprocessing\n",
        "tn_vocab, tn_input_ids, t_att = text_tokenization(data_num, 650)\n",
        "# check input shape\n",
        "tn_input_ids.shape"
      ],
      "metadata": {
        "colab": {
          "base_uri": "https://localhost:8080/"
        },
        "id": "8M1yDtjSu8o-",
        "outputId": "112b7f9a-ef10-480d-bf69-9c88f4063373"
      },
      "execution_count": null,
      "outputs": [
        {
          "output_type": "execute_result",
          "data": {
            "text/plain": [
              "(50000, 650)"
            ]
          },
          "metadata": {},
          "execution_count": 10
        }
      ]
    },
    {
      "cell_type": "markdown",
      "source": [
        "### TEXT ONLY Dataset Loading"
      ],
      "metadata": {
        "id": "0DxZsJyuOq3i"
      }
    },
    {
      "cell_type": "code",
      "source": [
        "# Split the data into training and testing sets\n",
        "from sklearn.model_selection import train_test_split\n",
        "t_y = np.array(data[\"target\"])\n",
        "\n",
        "t_X_train, t_X_test, t_y_train, t_y_test = train_test_split(t_input_ids, t_y, test_size=0.1, random_state=42)"
      ],
      "metadata": {
        "id": "T8LxuEHlOs12"
      },
      "execution_count": null,
      "outputs": []
    },
    {
      "cell_type": "code",
      "source": [
        "t_X_train.shape"
      ],
      "metadata": {
        "colab": {
          "base_uri": "https://localhost:8080/"
        },
        "id": "Df5sNjfGY7vD",
        "outputId": "3fdd0446-2c62-4a07-ed22-97fba92f3156"
      },
      "execution_count": null,
      "outputs": [
        {
          "output_type": "execute_result",
          "data": {
            "text/plain": [
              "(45000, 650)"
            ]
          },
          "metadata": {},
          "execution_count": 12
        }
      ]
    },
    {
      "cell_type": "markdown",
      "source": [
        "### NUMERICAL + TEXT Dataset Loading"
      ],
      "metadata": {
        "id": "14NoV8X8OtT2"
      }
    },
    {
      "cell_type": "code",
      "source": [
        "# inserting numerical values\n",
        "age_arr = data_num['age'].values\n",
        "bmi_arr = data_num['BMI'].values\n",
        "\n",
        "TN_input_ids = np.insert(tn_input_ids, 0, age_arr, axis=1)\n",
        "TN_input_ids = np.insert(TN_input_ids, 0, bmi_arr, axis=1)"
      ],
      "metadata": {
        "id": "nGxwOT5sOv6O"
      },
      "execution_count": null,
      "outputs": []
    },
    {
      "cell_type": "code",
      "source": [
        "# Split the data into training and testing sets\n",
        "from sklearn.model_selection import train_test_split\n",
        "tn_y = np.array(data_num[\"target\"])\n",
        "\n",
        "tn_X_train, tn_X_test, tn_y_train, tn_y_test = train_test_split(TN_input_ids, tn_y, test_size=0.1, random_state=42)"
      ],
      "metadata": {
        "id": "TWKEg3qWxW6k"
      },
      "execution_count": null,
      "outputs": []
    },
    {
      "cell_type": "code",
      "source": [
        "tn_X_train.shape"
      ],
      "metadata": {
        "colab": {
          "base_uri": "https://localhost:8080/"
        },
        "id": "AoACWDVGxYzZ",
        "outputId": "002d1559-162c-491a-8cb3-299522fea665"
      },
      "execution_count": null,
      "outputs": [
        {
          "output_type": "execute_result",
          "data": {
            "text/plain": [
              "(45000, 652)"
            ]
          },
          "metadata": {},
          "execution_count": 15
        }
      ]
    },
    {
      "cell_type": "markdown",
      "source": [
        "## LSTM"
      ],
      "metadata": {
        "id": "wwYvFAwTvHxg"
      }
    },
    {
      "cell_type": "code",
      "source": [
        "# Check GPU\n",
        "import tensorflow as tf\n",
        "device_name = tf.test.gpu_device_name()\n",
        "if device_name != '/device:GPU:0':\n",
        "  raise SystemError('GPU device not found')\n",
        "print('Found GPU at: {}'.format(device_name))"
      ],
      "metadata": {
        "colab": {
          "base_uri": "https://localhost:8080/"
        },
        "id": "N4OIyR8ueXLY",
        "outputId": "a151cc49-d23b-4336-e645-597ef8cc90a3"
      },
      "execution_count": null,
      "outputs": [
        {
          "output_type": "stream",
          "name": "stdout",
          "text": [
            "Found GPU at: /device:GPU:0\n"
          ]
        }
      ]
    },
    {
      "cell_type": "code",
      "source": [
        "import numpy as np\n",
        "from tensorflow.keras.models import Sequential\n",
        "from tensorflow.keras.layers import Embedding, LSTM, Dense , Dropout, Bidirectional\n",
        "from keras.optimizers import Adam, Adagrad\n",
        "\n",
        "# vocab_size = t_vocab\n",
        "vocab_size = tn_vocab\n",
        "\n",
        "max_seq_length = 652\n",
        "embedding_dim = 300\n",
        "\n",
        "# Define the model architecture\n",
        "model = Sequential()\n",
        "model.add(Embedding(vocab_size, embedding_dim, \n",
        "                    input_length = max_seq_length))\n",
        "\n",
        "# Simple LSTM\n",
        "model.add(LSTM(units=128, dropout=0.1, return_sequences=True))\n",
        "model.add(LSTM(units=64, dropout=0.1))\n",
        "model.add(Dense(units=1, activation='sigmoid'))\n",
        "\n",
        "# # Bidirectional LSTM\n",
        "# model.add(Bidirectional(LSTM(64, return_sequences=True)))\n",
        "# model.add(Bidirectional(LSTM(64)))\n",
        "# model.add(Dense(units=1, activation='sigmoid'))\n",
        "\n",
        "print(model.summary())\n",
        "\n",
        "model.compile(\"adam\", \"binary_crossentropy\", metrics=[\"accuracy\"])"
      ],
      "metadata": {
        "colab": {
          "base_uri": "https://localhost:8080/"
        },
        "id": "JtLsyl_x9Xu2",
        "outputId": "77776b50-f985-40f6-f4c0-cf692a8b38f7"
      },
      "execution_count": null,
      "outputs": [
        {
          "output_type": "stream",
          "name": "stdout",
          "text": [
            "Model: \"sequential_1\"\n",
            "_________________________________________________________________\n",
            " Layer (type)                Output Shape              Param #   \n",
            "=================================================================\n",
            " embedding_1 (Embedding)     (None, 652, 300)          1536000   \n",
            "                                                                 \n",
            " lstm_2 (LSTM)               (None, 652, 128)          219648    \n",
            "                                                                 \n",
            " lstm_3 (LSTM)               (None, 64)                49408     \n",
            "                                                                 \n",
            " dense_1 (Dense)             (None, 1)                 65        \n",
            "                                                                 \n",
            "=================================================================\n",
            "Total params: 1,805,121\n",
            "Trainable params: 1,805,121\n",
            "Non-trainable params: 0\n",
            "_________________________________________________________________\n",
            "None\n"
          ]
        }
      ]
    },
    {
      "cell_type": "code",
      "source": [
        "# Train the model\n",
        "# model.fit(t_X_train, t_y_train, batch_size=128, epochs=10, validation_split=0.2) # for text-only\n",
        "model.fit(tn_X_train, tn_y_train, batch_size=128, epochs=10, validation_split=0.2)"
      ],
      "metadata": {
        "colab": {
          "base_uri": "https://localhost:8080/"
        },
        "id": "GelagrKPp_tU",
        "outputId": "3d442e73-ceb1-4d38-a900-3e5c3ddba838"
      },
      "execution_count": null,
      "outputs": [
        {
          "output_type": "stream",
          "name": "stdout",
          "text": [
            "Epoch 1/10\n",
            "282/282 [==============================] - 57s 188ms/step - loss: 0.5165 - accuracy: 0.7883 - val_loss: 0.5071 - val_accuracy: 0.7951\n",
            "Epoch 2/10\n",
            "282/282 [==============================] - 35s 125ms/step - loss: 0.5146 - accuracy: 0.7902 - val_loss: 0.5072 - val_accuracy: 0.7951\n",
            "Epoch 3/10\n",
            "282/282 [==============================] - 30s 106ms/step - loss: 0.5141 - accuracy: 0.7902 - val_loss: 0.5077 - val_accuracy: 0.7951\n",
            "Epoch 4/10\n",
            "282/282 [==============================] - 30s 108ms/step - loss: 0.5140 - accuracy: 0.7902 - val_loss: 0.5106 - val_accuracy: 0.7951\n",
            "Epoch 5/10\n",
            "282/282 [==============================] - 29s 103ms/step - loss: 0.5140 - accuracy: 0.7902 - val_loss: 0.5073 - val_accuracy: 0.7951\n",
            "Epoch 6/10\n",
            "282/282 [==============================] - 29s 102ms/step - loss: 0.5139 - accuracy: 0.7902 - val_loss: 0.5072 - val_accuracy: 0.7951\n",
            "Epoch 7/10\n",
            "282/282 [==============================] - 29s 104ms/step - loss: 0.5139 - accuracy: 0.7902 - val_loss: 0.5075 - val_accuracy: 0.7951\n",
            "Epoch 8/10\n",
            "282/282 [==============================] - 28s 100ms/step - loss: 0.5138 - accuracy: 0.7902 - val_loss: 0.5087 - val_accuracy: 0.7951\n",
            "Epoch 9/10\n",
            "282/282 [==============================] - 28s 99ms/step - loss: 0.5139 - accuracy: 0.7902 - val_loss: 0.5073 - val_accuracy: 0.7951\n",
            "Epoch 10/10\n",
            "282/282 [==============================] - 29s 103ms/step - loss: 0.5140 - accuracy: 0.7902 - val_loss: 0.5071 - val_accuracy: 0.7951\n"
          ]
        },
        {
          "output_type": "execute_result",
          "data": {
            "text/plain": [
              "<keras.callbacks.History at 0x7f1d5172c7c0>"
            ]
          },
          "metadata": {},
          "execution_count": 26
        }
      ]
    },
    {
      "cell_type": "markdown",
      "source": [
        "## Predictions"
      ],
      "metadata": {
        "id": "vtMeTNFqVWlR"
      }
    },
    {
      "cell_type": "code",
      "source": [
        "predictions = model.predict(tn_X_test)"
      ],
      "metadata": {
        "id": "YGApa9cgRRWV",
        "colab": {
          "base_uri": "https://localhost:8080/"
        },
        "outputId": "0df05685-8698-4365-ec90-36a417704e3d"
      },
      "execution_count": null,
      "outputs": [
        {
          "output_type": "stream",
          "name": "stdout",
          "text": [
            "157/157 [==============================] - 4s 21ms/step\n"
          ]
        }
      ]
    },
    {
      "cell_type": "code",
      "source": [
        "y_pred = np.where(predictions > 0.45, 1, 0)"
      ],
      "metadata": {
        "id": "X4NnuAHMzSe9"
      },
      "execution_count": null,
      "outputs": []
    },
    {
      "cell_type": "code",
      "source": [
        "from sklearn.metrics import classification_report\n",
        "\n",
        "print(classification_report(tn_y_test, y_pred))"
      ],
      "metadata": {
        "colab": {
          "base_uri": "https://localhost:8080/"
        },
        "id": "myNK7Y1oy9u_",
        "outputId": "9ce21099-97de-4d5e-918c-4020ae0a09df"
      },
      "execution_count": null,
      "outputs": [
        {
          "output_type": "stream",
          "name": "stdout",
          "text": [
            "              precision    recall  f1-score   support\n",
            "\n",
            "           0       0.79      1.00      0.88      3958\n",
            "           1       0.00      0.00      0.00      1042\n",
            "\n",
            "    accuracy                           0.79      5000\n",
            "   macro avg       0.40      0.50      0.44      5000\n",
            "weighted avg       0.63      0.79      0.70      5000\n",
            "\n"
          ]
        },
        {
          "output_type": "stream",
          "name": "stderr",
          "text": [
            "/usr/local/lib/python3.10/dist-packages/sklearn/metrics/_classification.py:1344: UndefinedMetricWarning: Precision and F-score are ill-defined and being set to 0.0 in labels with no predicted samples. Use `zero_division` parameter to control this behavior.\n",
            "  _warn_prf(average, modifier, msg_start, len(result))\n",
            "/usr/local/lib/python3.10/dist-packages/sklearn/metrics/_classification.py:1344: UndefinedMetricWarning: Precision and F-score are ill-defined and being set to 0.0 in labels with no predicted samples. Use `zero_division` parameter to control this behavior.\n",
            "  _warn_prf(average, modifier, msg_start, len(result))\n",
            "/usr/local/lib/python3.10/dist-packages/sklearn/metrics/_classification.py:1344: UndefinedMetricWarning: Precision and F-score are ill-defined and being set to 0.0 in labels with no predicted samples. Use `zero_division` parameter to control this behavior.\n",
            "  _warn_prf(average, modifier, msg_start, len(result))\n"
          ]
        }
      ]
    },
    {
      "cell_type": "code",
      "source": [],
      "metadata": {
        "id": "sA08afM5uRBX"
      },
      "execution_count": null,
      "outputs": []
    }
  ],
  "metadata": {
    "language_info": {
      "name": "python"
    },
    "orig_nbformat": 4,
    "colab": {
      "provenance": [],
      "machine_shape": "hm",
      "gpuType": "T4",
      "collapsed_sections": [
        "F41M3UA_LZRd"
      ]
    },
    "kernelspec": {
      "name": "python3",
      "display_name": "Python 3"
    },
    "gpuClass": "standard",
    "accelerator": "GPU"
  },
  "nbformat": 4,
  "nbformat_minor": 0
}
